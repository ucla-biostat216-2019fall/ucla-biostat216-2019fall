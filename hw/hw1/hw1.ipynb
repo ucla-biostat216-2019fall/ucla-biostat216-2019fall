{
 "cells": [
  {
   "cell_type": "markdown",
   "metadata": {},
   "source": [
    "# Biostat 216 Homework 1\n",
    "\n",
    "**Due ~~Oct 3~~ Oct 10 in class**"
   ]
  },
  {
   "cell_type": "markdown",
   "metadata": {},
   "source": [
    "1. Choose and sovle 5 problems from the set $\\{\\text{exercise } 3k+1: k=0,1,\\ldots\\} = \\{\\text{exercise} 1, \\text{exercise 4}, \\text{exercise 7}, \\ldots, \\}$ in BR Chapter 4.\n",
    "\n",
    "2. Choose and sovle 5 problems from the set $\\{\\text{exercise } 3k+1: k=0,1,\\ldots\\} = \\{\\text{exercise} 1, \\text{exercise 4}, \\text{exercise 7}, \\ldots, \\}$ in BR Chapter 5.\n",
    "\n",
    "3. Choose and sovle 5 problems from the set $\\{\\text{exercise } 3k+1: k=0,1,\\ldots\\} = \\{\\text{exercise} 1, \\text{exercise 4}, \\text{exercise 7}, \\ldots, \\}$ in BR Chapter 6."
   ]
  }
 ],
 "metadata": {
  "@webio": {
   "lastCommId": null,
   "lastKernelId": null
  },
  "hide_input": false,
  "kernelspec": {
   "display_name": "Julia 1.1.1",
   "language": "julia",
   "name": "julia-1.1"
  },
  "language_info": {
   "file_extension": ".jl",
   "mimetype": "application/julia",
   "name": "julia",
   "version": "1.1.1"
  },
  "toc": {
   "colors": {
    "hover_highlight": "#DAA520",
    "running_highlight": "#FF0000",
    "selected_highlight": "#FFD700"
   },
   "moveMenuLeft": true,
   "nav_menu": {
    "height": "87px",
    "width": "252px"
   },
   "navigate_menu": true,
   "number_sections": true,
   "sideBar": true,
   "skip_h1_title": true,
   "threshold": 4,
   "toc_cell": false,
   "toc_section_display": "block",
   "toc_window_display": false,
   "widenNotebook": false
  }
 },
 "nbformat": 4,
 "nbformat_minor": 2
}
